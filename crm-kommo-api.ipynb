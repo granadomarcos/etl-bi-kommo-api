{
 "cells": [
  {
   "cell_type": "code",
   "execution_count": null,
   "id": "b3a6ee0b",
   "metadata": {},
   "outputs": [],
   "source": [
    "import pandas as pd\n",
    "import requests, json\n",
    "import numpy as np\n",
    "import time  \n",
    "import pygsheets\n",
    "from dotenv import load_dotenv\n",
    "import os\n",
    "import seaborn as sns\n",
    "import matplotlib.pyplot as plt"
   ]
  },
  {
   "cell_type": "code",
   "execution_count": null,
   "id": "37be7a9e",
   "metadata": {},
   "outputs": [],
   "source": [
    "pd.set_option('display.max_columns', None)  # Mostra todas as colunas\n",
    "pd.set_option('display.width', None)        # Desativa quebra de linha automática\n",
    "pd.set_option('display.expand_frame_repr', False)  # Mostra tudo em uma linha, se possível"
   ]
  },
  {
   "cell_type": "code",
   "execution_count": null,
   "id": "5dd0ac97",
   "metadata": {},
   "outputs": [],
   "source": [
    "load_dotenv()  # Carrega as variáveis do .env\n",
    "\n",
    "token = os.getenv(\"BEARER_TOKEN\")\n",
    "url_leads = os.getenv(\"URL_LEADS\")\n",
    "url_pipeline = os.getenv(\"URL_PIPELINE\")"
   ]
  },
  {
   "cell_type": "code",
   "execution_count": null,
   "id": "c901d370",
   "metadata": {},
   "outputs": [],
   "source": [
    "headers = {\n",
    "    \"accept\": \"application/json\",\n",
    "    \"authorization\": f\"Bearer {token}\"\n",
    "}"
   ]
  },
  {
   "cell_type": "code",
   "execution_count": null,
   "id": "3f637b17",
   "metadata": {},
   "outputs": [],
   "source": [
    "response = requests.get(url_pipeline, headers=headers)\n",
    "\n",
    "print(response.text)"
   ]
  },
  {
   "cell_type": "code",
   "execution_count": null,
   "id": "e6443722",
   "metadata": {},
   "outputs": [],
   "source": [
    "dados = response.json()['_embedded']['pipelines']\n",
    "\n",
    "df1 = pd.DataFrame(dados)\n",
    "df1.rename(columns={\n",
    "    'id': 'id_pipeline',\n",
    "    'name': 'pipeline'\n",
    "}, inplace=True)\n",
    "df1.head()"
   ]
  },
  {
   "cell_type": "code",
   "execution_count": null,
   "id": "b0c8f738",
   "metadata": {},
   "outputs": [],
   "source": [
    "# Cria nova coluna com os statuses\n",
    "df1['statuses'] = df1['_embedded'].apply(lambda x: x.get('statuses', []))\n",
    "\n",
    "# Expande a lista de statuses em linhas\n",
    "df_statuses = df1.explode('statuses').reset_index(drop=True)\n",
    "\n",
    "# Transforma os dicionários da coluna 'statuses' em colunas\n",
    "df_statuses = pd.concat([df_statuses.drop(columns=['statuses', '_embedded']), df_statuses['statuses'].apply(pd.Series)], axis=1)\n"
   ]
  },
  {
   "cell_type": "code",
   "execution_count": null,
   "id": "7c7c464e",
   "metadata": {},
   "outputs": [],
   "source": [
    "df_statuses = df_statuses[['id','name','pipeline']].drop_duplicates(subset='id')\n",
    "df_statuses.rename(columns={\n",
    "\"name\": \"step_name\"\n",
    "}, inplace=True)"
   ]
  },
  {
   "cell_type": "code",
   "execution_count": null,
   "id": "d80e25ed",
   "metadata": {},
   "outputs": [],
   "source": [
    "df_statuses"
   ]
  },
  {
   "cell_type": "code",
   "execution_count": null,
   "id": "74ec1611",
   "metadata": {},
   "outputs": [],
   "source": [
    "all_leads = []\n",
    "limit = 250\n",
    "page = 1\n",
    "\n",
    "while True:\n",
    "    params = {\n",
    "        \"limit\": limit,\n",
    "        \"page\": page\n",
    "    }\n",
    "    \n",
    "    response = requests.get(url_leads, headers=headers, params=params)\n",
    "    \n",
    "    if response.status_code != 200:\n",
    "        print(f\"Erro na página {page}: {response.status_code}\")\n",
    "        break\n",
    "\n",
    "    data = response.json()['_embedded']['leads']\n",
    "    \n",
    "    if not data:\n",
    "        break  # Não há mais leads\n",
    "    \n",
    "    all_leads.extend(data)\n",
    "    print(f\"Página {page} carregada: {len(data)} registros\")\n",
    "    \n",
    "    if len(data) < limit:\n",
    "        break  # Última página\n",
    "    \n",
    "    page += 1\n",
    "    time.sleep(0.3)  # opcional: respeitar limites de rate\n",
    "\n",
    "print(f\"\\nTotal de leads coletados: {len(all_leads)}\")\n"
   ]
  },
  {
   "cell_type": "code",
   "execution_count": null,
   "id": "05426f4e",
   "metadata": {},
   "outputs": [],
   "source": [
    "df = pd.DataFrame(all_leads)\n",
    "df.head()"
   ]
  },
  {
   "cell_type": "code",
   "execution_count": null,
   "id": "114a7ff2",
   "metadata": {},
   "outputs": [],
   "source": [
    "# -------- 1. Expandir custom_fields_values --------\n",
    "def extract_custom_fields(row):\n",
    "    if isinstance(row, list):\n",
    "        output = {}\n",
    "        for item in row:\n",
    "            field_name = item.get('field_name')\n",
    "            values = item.get('values', [])\n",
    "            if field_name and values:\n",
    "                output[field_name] = values[0].get('value')\n",
    "        return pd.Series(output)\n",
    "    return pd.Series()\n",
    "\n",
    "custom_fields_df = df['custom_fields_values'].apply(extract_custom_fields)\n",
    "\n",
    "# Opcional: limpar nomes de colunas (substituir '/' por '_', etc.)\n",
    "custom_fields_df.columns = [col.replace('/', '_').replace(' ', '_') for col in custom_fields_df.columns]\n",
    "\n",
    "# -------- 2. Extrair nomes das tags --------\n",
    "def extract_tags(row):\n",
    "    if isinstance(row, list):\n",
    "        return [tag.get('name') for tag in row if isinstance(tag, dict)]\n",
    "    return []\n",
    "\n",
    "df['tags'] = df['_embedded'].apply(extract_tags)\n",
    "\n",
    "# # -------- 3. Extrair nome da empresa --------\n",
    "# def extract_company_name(row):\n",
    "#     if isinstance(row, list) and len(row) > 0:\n",
    "#         return row[0].get('name')\n",
    "#     return None\n",
    "\n",
    "# df['company_name'] = df['_embedded.companies'].apply(extract_company_name)\n",
    "\n",
    "# -------- 4. Concatenar tudo no DataFrame final --------\n",
    "df = pd.concat([df, custom_fields_df], axis=1)\n",
    "\n",
    "# (Opcional) Remover as colunas originais se desejar\n",
    "#df.drop(columns=['custom_fields_values', '_embedded.tags', '_embedded.companies'], inplace=True)\n",
    "\n"
   ]
  },
  {
   "cell_type": "code",
   "execution_count": null,
   "id": "569dc707",
   "metadata": {},
   "outputs": [],
   "source": [
    "df.head(5)"
   ]
  },
  {
   "cell_type": "code",
   "execution_count": null,
   "id": "f699f723",
   "metadata": {},
   "outputs": [],
   "source": [
    "#df.to_csv('df_kommo_v3.csv', encoding=\"utf-8-sig\")"
   ]
  },
  {
   "cell_type": "code",
   "execution_count": null,
   "id": "93646d53",
   "metadata": {},
   "outputs": [],
   "source": [
    "print(type(df['created_at'][0]))\n",
    "print(type(df['updated_at'][0]))\n",
    "print(type(df['closed_at'][0]))\n",
    "print(type(df['closest_task_at'][0]))\n",
    "print(type(df['Data_do_agendamento'].iloc[0]))\n",
    "print(type(df['Data_de_criação'].iloc[0]))"
   ]
  },
  {
   "cell_type": "markdown",
   "id": "558278a9",
   "metadata": {},
   "source": [
    "Exploração\n"
   ]
  },
  {
   "cell_type": "code",
   "execution_count": null,
   "id": "14dd0097",
   "metadata": {},
   "outputs": [],
   "source": [
    "\"\"\" df[['created_at', \n",
    "\t   'updated_at', \n",
    "\t   'closed_at', \n",
    "\t   'closest_task_at',\n",
    "       'Data_do_agendamento', \n",
    "       'Data_de_criação']] \"\"\""
   ]
  },
  {
   "cell_type": "code",
   "execution_count": null,
   "id": "71124083",
   "metadata": {},
   "outputs": [],
   "source": [
    "# Lista das colunas com Unix Timestamps\n",
    "unix_columns = [\n",
    "    'created_at', \n",
    "    'updated_at', \n",
    "    'closed_at', \n",
    "    'closest_task_at',\n",
    "    'Data_do_agendamento', \n",
    "    'Data_de_criação'\n",
    "]\n",
    "\n",
    "# Limite superior para timestamps válidos (01/01/2100)\n",
    "max_valid_timestamp = 4102444800  # segundos desde 1970\n",
    "\n",
    "# Conversão segura\n",
    "for col in unix_columns:\n",
    "    if col in df.columns:\n",
    "        df[col] = pd.to_numeric(df[col], errors='coerce')  # garante tipo numérico\n",
    "        df[col] = df[col].where(df[col] < max_valid_timestamp, np.nan)  # remove absurdos\n",
    "        df[col] = pd.to_datetime(df[col], unit='s', errors='coerce')  # converte para datetime\n"
   ]
  },
  {
   "cell_type": "code",
   "execution_count": null,
   "id": "0273e482",
   "metadata": {},
   "outputs": [],
   "source": [
    "df[['created_at', \n",
    "\t   'updated_at', \n",
    "\t   'closed_at', \n",
    "\t   'closest_task_at',\n",
    "       'Data_do_agendamento', \n",
    "       'Data_de_criação']]"
   ]
  },
  {
   "cell_type": "code",
   "execution_count": null,
   "id": "a4eb095a",
   "metadata": {},
   "outputs": [],
   "source": [
    "df.head()"
   ]
  },
  {
   "cell_type": "code",
   "execution_count": null,
   "id": "be41859d",
   "metadata": {},
   "outputs": [],
   "source": [
    "df.columns"
   ]
  },
  {
   "cell_type": "code",
   "execution_count": null,
   "id": "dfa9f43b",
   "metadata": {},
   "outputs": [],
   "source": [
    "df_statuses.head()"
   ]
  },
  {
   "cell_type": "code",
   "execution_count": null,
   "id": "6f0d44a5",
   "metadata": {},
   "outputs": [],
   "source": [
    "# Renomear colunas do mapeamento para evitar conflito\n",
    "df_statuses = df_statuses.rename(columns={\n",
    "    'id': 'status_id',       # para bater com o df_principal\n",
    "    'step_name': 'status_name',\n",
    "    'pipeline': 'pipeline_name'\n",
    "})\n",
    "df['status_id'] = df['status_id'].astype('Int64')  # Int64 com I maiúsculo permite valores NaN\n",
    "df_statuses['status_id'] = df_statuses['status_id'].astype('Int64')\n",
    "\n",
    "# Realizar o merge com base no status_id\n",
    "df = df.merge(df_statuses, on='status_id', how='left')"
   ]
  },
  {
   "cell_type": "code",
   "execution_count": null,
   "id": "871922a0",
   "metadata": {},
   "outputs": [],
   "source": [
    "# Mapeamento dos IDs para nomes\n",
    "mapa_vendedores = {\n",
    "    \"11188591\": \"Everton Oliveira\",\n",
    "    \"13190131\": \"Vendedora Gabriele\",\n",
    "    \"13190615\": \"Vendedor Daniel\",\n",
    "    \"13190631\": \"Vendedor Leonardo\"\n",
    "}\n",
    "\n",
    "# Converta a coluna responsible_user_id para string (se ainda não for)\n",
    "df['responsible_user_id'] = df['responsible_user_id'].astype(str)\n",
    "\n",
    "# Crie ou atualize a coluna 'vendedor' com base no dicionário\n",
    "df['vendedor'] = df['responsible_user_id'].map(mapa_vendedores)\n"
   ]
  },
  {
   "cell_type": "code",
   "execution_count": null,
   "id": "da49f398",
   "metadata": {},
   "outputs": [],
   "source": [
    "#Tempo médio entre criação e agendamento\n",
    "df['tempo_ate_agendamento'] = (df['Data_do_agendamento'] - df['Data_de_criação']).dt.days\n",
    "#ciclo de venda (em dias)\n",
    "df['ciclo_venda_dias'] = (df['closed_at'] - df['Data_de_criação']).dt.days\n"
   ]
  },
  {
   "cell_type": "code",
   "execution_count": null,
   "id": "819c953b",
   "metadata": {},
   "outputs": [],
   "source": [
    "df['agendou'] = df['Data_do_agendamento'].notna()\n"
   ]
  },
  {
   "cell_type": "code",
   "execution_count": null,
   "id": "f88e3c8b",
   "metadata": {},
   "outputs": [],
   "source": [
    "\n",
    "df[df['status_name'] == 'Venda Concluída 🤑']\n"
   ]
  },
  {
   "cell_type": "code",
   "execution_count": null,
   "id": "a0d3792a",
   "metadata": {},
   "outputs": [],
   "source": [
    "gc = pygsheets.authorize(service_file='credenciais.json')\n",
    "\n",
    "sh = gc.open('Dados Vendas Casa do Volante')\n",
    "wks = sh.worksheet_by_title('kommo-api')\n",
    "\n",
    "wks.clear()\n",
    "wks.set_dataframe(df, (1, 1))  # Começa a escrever da célula A1\n"
   ]
  },
  {
   "cell_type": "markdown",
   "id": "8b65e036",
   "metadata": {},
   "source": [
    "###\n",
    "|Tipo de dado\tColuna|\n",
    "|Dados do cliente|\tid, name, responsible_user_id|     \\\n",
    "|Detalhes do serviço|\tServiço_que_entrou_em_contato, price|\\\n",
    "|Agendamento e datas|\tData_do_agendamento, Data_de_criação|\\\n",
    "|Localização|\tCidade_Bairro|\\\n",
    "|Funil de vendas|\tstatus_id, pipeline_id, Motivo_de_perda|\\\n",
    "|Marketing|\tCampanha, Conjunto, Nome_do_criativo|\\\n",
    "|Pagamento|\tMétodo_de_pagamento|"
   ]
  },
  {
   "cell_type": "code",
   "execution_count": null,
   "id": "31a9ca26",
   "metadata": {},
   "outputs": [],
   "source": [
    "#Volume de Leads por período\n",
    "df['Data_de_criação'].dt.to_period('M').value_counts().sort_index()\n"
   ]
  },
  {
   "cell_type": "code",
   "execution_count": null,
   "id": "dee904c6",
   "metadata": {},
   "outputs": [],
   "source": [
    "#Percentual de leads que chegaram a agendar um horário\n",
    "df['agendou'] = df['Data_do_agendamento'].notna()\n",
    "agendados_pct = df['agendou'].mean()"
   ]
  },
  {
   "cell_type": "code",
   "execution_count": null,
   "id": "ba068a1e",
   "metadata": {},
   "outputs": [],
   "source": [
    "#Serviços mais procurados\n",
    "df['Serviço_que_entrou_em_contato'].value_counts()"
   ]
  },
  {
   "cell_type": "code",
   "execution_count": null,
   "id": "e9064838",
   "metadata": {},
   "outputs": [],
   "source": [
    "#Receita estimada por serviço\n",
    "df.groupby('Serviço_que_entrou_em_contato')['price'].sum().sort_values(ascending=False)\n"
   ]
  },
  {
   "cell_type": "code",
   "execution_count": null,
   "id": "66673a61",
   "metadata": {},
   "outputs": [],
   "source": [
    "#Motivos de perda mais frequentes\n",
    "df['Motivo_de_perda'].value_counts()\n"
   ]
  },
  {
   "cell_type": "code",
   "execution_count": null,
   "id": "ada5847f",
   "metadata": {},
   "outputs": [],
   "source": [
    "#Distribuição por localização\n",
    "df['Cidade_Bairro'].value_counts()\n"
   ]
  },
  {
   "cell_type": "code",
   "execution_count": null,
   "id": "2037183c",
   "metadata": {},
   "outputs": [],
   "source": [
    "#Desempenho de campanhas\n",
    "df['Campanha'].value_counts()\n",
    "df.groupby('Campanha')['price'].sum()\n"
   ]
  },
  {
   "cell_type": "code",
   "execution_count": null,
   "id": "a20fbb5e",
   "metadata": {},
   "outputs": [],
   "source": [
    "#Formas de pagamento preferidas\n",
    "df['Método_de_pagamento'].value_counts()\n"
   ]
  },
  {
   "cell_type": "code",
   "execution_count": null,
   "id": "2ee5dec9",
   "metadata": {},
   "outputs": [],
   "source": [
    "\n",
    "\n",
    "df['tempo_ate_agendamento'].mean()\n"
   ]
  },
  {
   "cell_type": "code",
   "execution_count": null,
   "id": "19ce6a63",
   "metadata": {},
   "outputs": [],
   "source": [
    "#Usuário responsável mais produtivo\n",
    "df.groupby('responsible_user_id')['id'].count().sort_values(ascending=False)\n"
   ]
  },
  {
   "cell_type": "code",
   "execution_count": null,
   "id": "7203a6f1",
   "metadata": {},
   "outputs": [],
   "source": [
    "#Ciclo médio por usuário responsável\n",
    "df.groupby('responsible_user_id')['ciclo_venda_dias'].mean().sort_values()\n"
   ]
  },
  {
   "cell_type": "code",
   "execution_count": null,
   "id": "47ffcc82",
   "metadata": {},
   "outputs": [],
   "source": [
    "df.sort_values(by='ciclo_venda_dias', ascending=False).head(10)\n"
   ]
  },
  {
   "cell_type": "code",
   "execution_count": null,
   "id": "d56c2405",
   "metadata": {},
   "outputs": [],
   "source": [
    "df['ciclo_venda_dias'][0]"
   ]
  },
  {
   "cell_type": "code",
   "execution_count": null,
   "id": "42041bb4",
   "metadata": {},
   "outputs": [],
   "source": [
    "df.columns"
   ]
  },
  {
   "cell_type": "code",
   "execution_count": null,
   "id": "ab399a62",
   "metadata": {},
   "outputs": [],
   "source": [
    "df.head()"
   ]
  },
  {
   "cell_type": "code",
   "execution_count": null,
   "id": "19d039e1",
   "metadata": {},
   "outputs": [],
   "source": [
    "#quantos leads estão em cada etapa do funil: Conversão por Etapa (status_name)\n",
    "df['status_name'].value_counts()\n"
   ]
  },
  {
   "cell_type": "code",
   "execution_count": null,
   "id": "8e01b9f2",
   "metadata": {},
   "outputs": [],
   "source": [
    "# Conversão por Funil (pipeline_name)\n",
    "df['pipeline_name'].value_counts()\n"
   ]
  },
  {
   "cell_type": "code",
   "execution_count": null,
   "id": "ae704514",
   "metadata": {},
   "outputs": [],
   "source": [
    "# Tempo até o agendamento por etapa (ciclo_venda_dias ou tempo_ate_agendamento)\n",
    "df.groupby('status_name')['ciclo_venda_dias'].mean().sort_values()\n"
   ]
  },
  {
   "cell_type": "code",
   "execution_count": null,
   "id": "e47e4405",
   "metadata": {},
   "outputs": [],
   "source": [
    "# Taxa de agendamento por etapa ou funil\n",
    "df.groupby('status_name')['agendou'].mean().sort_values(ascending=False)\n",
    "df.groupby('pipeline_name')['agendou'].mean()\n"
   ]
  },
  {
   "cell_type": "code",
   "execution_count": null,
   "id": "894144e9",
   "metadata": {},
   "outputs": [],
   "source": [
    "#  Funis com mais perdas (Motivo_de_perda) por pipeline\n",
    "df[df['agendou'] == False].groupby('pipeline_name')['Motivo_de_perda'].value_counts()\n"
   ]
  },
  {
   "cell_type": "code",
   "execution_count": null,
   "id": "55ab3d56",
   "metadata": {},
   "outputs": [],
   "source": [
    "#Conversão por etapa até venda (status_id == 142)\n",
    "df[df['status_name'] == 'Venda Concluída 🤑'].groupby('pipeline_name').size()\n"
   ]
  },
  {
   "cell_type": "code",
   "execution_count": null,
   "id": "1e50d862",
   "metadata": {},
   "outputs": [],
   "source": [
    "#Distribuição de preço por status\n",
    "df.groupby('status_name')['price'].describe()\n"
   ]
  },
  {
   "cell_type": "code",
   "execution_count": null,
   "id": "bd738919",
   "metadata": {},
   "outputs": [],
   "source": [
    "# Filtrar etapas críticas com tempo alto e conversão baixa:\n",
    "df.groupby('status_name').agg({\n",
    "    'ciclo_venda_dias': 'mean',\n",
    "    'agendou': 'mean',\n",
    "    'id': 'count'\n",
    "}).sort_values(by='ciclo_venda_dias', ascending=False)\n"
   ]
  },
  {
   "cell_type": "code",
   "execution_count": null,
   "id": "c46222a3",
   "metadata": {},
   "outputs": [],
   "source": [
    "import seaborn as sns\n",
    "import matplotlib.pyplot as plt\n",
    "\n",
    "sns.countplot(data=df, y='status_name', order=df['status_name'].value_counts().index)\n",
    "plt.title('Distribuição de Leads por Etapa do Funil')\n",
    "plt.xlabel('Quantidade de Leads')\n",
    "plt.ylabel('Etapa')\n",
    "plt.tight_layout()\n",
    "plt.show()\n"
   ]
  },
  {
   "cell_type": "code",
   "execution_count": null,
   "id": "933270bc",
   "metadata": {},
   "outputs": [],
   "source": [
    "import seaborn as sns\n",
    "import matplotlib.pyplot as plt\n",
    "\n",
    "plt.figure(figsize=(10, 6))\n",
    "sns.countplot(data=df, y='status_name', order=df['status_name'].value_counts().index)\n",
    "plt.title('Quantidade de Leads por Etapa')\n",
    "plt.xlabel('Leads')\n",
    "plt.ylabel('Etapa')\n",
    "plt.tight_layout()\n",
    "plt.show()\n"
   ]
  },
  {
   "cell_type": "code",
   "execution_count": null,
   "id": "258b6116",
   "metadata": {},
   "outputs": [],
   "source": [
    "taxa = df.groupby('status_name')['agendou'].mean().sort_values()\n",
    "taxa.plot(kind='barh', figsize=(10, 6), title='Taxa de Conversão por Etapa (%)')\n",
    "plt.xlabel('% de Leads Agendados')\n",
    "plt.tight_layout()\n",
    "plt.show()\n"
   ]
  },
  {
   "cell_type": "code",
   "execution_count": null,
   "id": "c86e4db9",
   "metadata": {},
   "outputs": [],
   "source": [
    "df['pipeline_name'].value_counts().plot(kind='pie', autopct='%1.1f%%', figsize=(6, 6), title='Distribuição de Leads por Funil')\n",
    "plt.ylabel('')\n",
    "plt.tight_layout()\n",
    "plt.show()\n"
   ]
  },
  {
   "cell_type": "code",
   "execution_count": null,
   "id": "1067b5fb",
   "metadata": {},
   "outputs": [],
   "source": []
  }
 ],
 "metadata": {
  "kernelspec": {
   "display_name": "kommo_api",
   "language": "python",
   "name": "python3"
  },
  "language_info": {
   "codemirror_mode": {
    "name": "ipython",
    "version": 3
   },
   "file_extension": ".py",
   "mimetype": "text/x-python",
   "name": "python",
   "nbconvert_exporter": "python",
   "pygments_lexer": "ipython3",
   "version": "3.11.2"
  }
 },
 "nbformat": 4,
 "nbformat_minor": 5
}
